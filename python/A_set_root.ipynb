{
 "cells": [
  {
   "cell_type": "markdown",
   "id": "a15f0b8f",
   "metadata": {},
   "source": [
    "Setting root so we can all seemlessly work with each others scripts"
   ]
  },
  {
   "cell_type": "markdown",
   "id": "c44fd55d",
   "metadata": {},
   "source": [
    "This is for demonstration purposes, we have to set the root for each script again"
   ]
  },
  {
   "cell_type": "code",
   "execution_count": null,
   "id": "31d61d04",
   "metadata": {},
   "outputs": [],
   "source": [
    "# ────────────────────────────────────────────────────────────────\n",
    "# Copy & paste everything from here ↓\n",
    "# ────────────────────────────────────────────────────────────────\n",
    "\n",
    "import sys\n",
    "import os\n",
    "from pathlib import Path\n",
    "\n",
    "# 1) Locate this script (or notebook) directory\n",
    "try:\n",
    "    script_dir = Path(__file__).resolve().parent\n",
    "except NameError:\n",
    "    # __file__ doesn't exist in notebooks or REPLs\n",
    "    script_dir = Path.cwd()\n",
    "\n",
    "# 2) Assume project root is one level up from `python/`\n",
    "project_root = script_dir.parent\n",
    "\n",
    "# 3) Sanity check: ensure there's a `data/` folder at the root\n",
    "if not (project_root / \"data\").is_dir():\n",
    "    raise RuntimeError(f\"Project root {project_root!r} has no data/ folder.\")\n",
    "\n",
    "# 4) Prepend to sys.path so you can `import` anywhere in Music_Project\n",
    "if str(project_root) not in sys.path:\n",
    "    sys.path.insert(0, str(project_root))\n",
    "\n",
    "# Now you can freely do:\n",
    "#   import pandas as pd\n",
    "#   df = pd.read_csv(project_root / \"data\" / \"clean\" / \"covers_clean.csv\")\n",
    "# ────────────────────────────────────────────────────────────────\n",
    "# Copy & paste everything above ↑\n",
    "# ────────────────────────────────────────────────────────────────"
   ]
  },
  {
   "cell_type": "code",
   "execution_count": 6,
   "id": "fbcc0cd4",
   "metadata": {},
   "outputs": [],
   "source": [
    "# example usage:\n",
    "import pandas as pd\n",
    "df = pd.read_csv(project_root / \"data\" / \"clean\" / \"covers_clean.csv\")"
   ]
  }
 ],
 "metadata": {
  "kernelspec": {
   "display_name": "ASDA",
   "language": "python",
   "name": "python3"
  },
  "language_info": {
   "codemirror_mode": {
    "name": "ipython",
    "version": 3
   },
   "file_extension": ".py",
   "mimetype": "text/x-python",
   "name": "python",
   "nbconvert_exporter": "python",
   "pygments_lexer": "ipython3",
   "version": "3.11.10"
  }
 },
 "nbformat": 4,
 "nbformat_minor": 5
}
